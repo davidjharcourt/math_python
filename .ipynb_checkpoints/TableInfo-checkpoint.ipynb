{
 "cells": [
  {
   "cell_type": "code",
   "execution_count": 29,
   "metadata": {},
   "outputs": [
    {
     "name": "stdout",
     "output_type": "stream",
     "text": [
      "kalido_cert|kalido_cert|\"string\",string,string\n",
      "kalido_cert|kalido_cert|\"string\",timestamp,timestamp\n",
      "kalido_cert|kalido_cert|\"string\",timestamp,timestamp\n",
      "kalido_cert|kalido_cert|\"string\",string,string\n",
      "kalido_cert|kalido_cert|\"string\",string,string\n",
      "kalido_cert|kalido_cert|\"string\",bigint,bigint\n"
     ]
    }
   ],
   "source": [
    "import pyodbc\n",
    "\n",
    "# Set variables for database query (should I capture this in a file? a prompt?)\n",
    "\n",
    "driver = 'SQL Server'\n",
    "server = 'cvgwqclu14db,1433'\n",
    "database = 'Kalido_CERT'\n",
    "table = 'dbo.MDT_EXPOSURE_BASIS'\n",
    "my_data_type = 'none yet' #temp\n",
    "\n",
    "# Connect to the database\n",
    "\n",
    "conn = pyodbc.connect('Driver={SQL Server};'\n",
    "                      f'Server={server};'\n",
    "                      f'Database={database};'\n",
    "                      'Trusted_Connection=yes;'\n",
    ")\n",
    "\n",
    "# Capture results of query\n",
    "cursor = conn.cursor()\n",
    "cursor.execute('exec sp_columns ATT_APPLICATION,dbo,Kalido_CERT;')\n",
    "cursor = tuple(cursor)\n",
    "\n",
    "# Determine my_data_type based on details of columns\n",
    "# Output results of query in desired syntax\n",
    "\n",
    "strings = ('varchar')\n",
    "numbers = ('numeric')\n",
    "dates = ('datetime')\n",
    "\n",
    "for row in cursor:\n",
    "    if row[5] in strings:\n",
    "        my_data_type = 'string'\n",
    "        print(f'{row[0].lower()}|{row[0].lower()}|\"string\",{my_data_type},{my_data_type}')\n",
    "    elif row[5] in dates:\n",
    "        my_data_type = 'timestamp'\n",
    "        print(f'{row[0].lower()}|{row[0].lower()}|\"string\",{my_data_type},{my_data_type}')\n",
    "    elif row[5] in numbers: # need further logic on this for big_int, decimal, decimal with precision, and errors\n",
    "        my_data_type = 'bigint'\n",
    "        print(f'{row[0].lower()}|{row[0].lower()}|\"string\",{my_data_type},{my_data_type}')\n",
    "    else:\n",
    "        my_data_type = 'ERROR!'\n",
    "\n",
    "# Put the output in a text file\n",
    "\n"
   ]
  },
  {
   "cell_type": "code",
   "execution_count": 25,
   "metadata": {},
   "outputs": [
    {
     "name": "stdout",
     "output_type": "stream",
     "text": [
      "('Kalido_CERT', 'dbo', 'ATT_APPLICATION', 'BE_ID', 12, 'varchar', 10, 10, None, None, 1, None, None, 12, None, 10, 1, 'YES', 39)\n",
      "('Kalido_CERT', 'dbo', 'ATT_APPLICATION', 'BE_NAME', 12, 'varchar', 255, 255, None, None, 1, None, None, 12, None, 255, 4, 'YES', 39)\n",
      "('Kalido_CERT', 'dbo', 'ATT_APPLICATION', 'APPLICATION_CODE', 12, 'varchar', 255, 255, None, None, 1, None, None, 12, None, 255, 5, 'YES', 39)\n"
     ]
    }
   ],
   "source": [
    "import pyodbc\n",
    "\n",
    "# Set variables for database query (should I capture this in a file? a prompt?)\n",
    "\n",
    "driver = 'SQL Server'\n",
    "server = 'cvgwqclu14db,1433'\n",
    "database = 'Kalido_CERT'\n",
    "table = 'dbo.MDT_EXPOSURE_BASIS'\n",
    "my_data_type = None #temp\n",
    "\n",
    "# Connect to the database\n",
    "\n",
    "conn = pyodbc.connect('Driver={SQL Server};'\n",
    "                      f'Server={server};'\n",
    "                      f'Database={database};'\n",
    "                      'Trusted_Connection=yes;'\n",
    ")\n",
    "\n",
    "# Capture results of query\n",
    "cursor = conn.cursor()\n",
    "cursor.execute('exec sp_columns ATT_APPLICATION,dbo,Kalido_CERT;')\n",
    "cursor = tuple(cursor)\n",
    "\n",
    "strings = ('varchar')\n",
    "numbers = ('numeric')\n",
    "dates = ('datetime')\n",
    "\n",
    "for row in cursor:\n",
    "    if row[5] in strings:\n",
    "        my_data_type = 'string'\n",
    "    elif row[5] in dates:\n",
    "        my_data_type = 'timestamp'\n",
    "    elif row[5] in numbers: # need further logic on this for big_int, decimal, decimal with precision, and errors\n",
    "        my_data_type = 'bigint'\n",
    "    else:\n",
    "        my_data_type = 'ERROR!'\n",
    "        "
   ]
  }
 ],
 "metadata": {
  "kernelspec": {
   "display_name": "Python 3",
   "language": "python",
   "name": "python3"
  },
  "language_info": {
   "codemirror_mode": {
    "name": "ipython",
    "version": 3
   },
   "file_extension": ".py",
   "mimetype": "text/x-python",
   "name": "python",
   "nbconvert_exporter": "python",
   "pygments_lexer": "ipython3",
   "version": "3.7.1"
  }
 },
 "nbformat": 4,
 "nbformat_minor": 2
}
