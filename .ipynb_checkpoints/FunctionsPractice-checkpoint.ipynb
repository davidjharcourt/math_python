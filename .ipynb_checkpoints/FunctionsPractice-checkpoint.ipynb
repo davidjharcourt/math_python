{
 "cells": [
  {
   "cell_type": "code",
   "execution_count": 1,
   "metadata": {},
   "outputs": [
    {
     "name": "stdout",
     "output_type": "stream",
     "text": [
      "49\n"
     ]
    }
   ],
   "source": [
    "def square_of_7():\n",
    "    return 7**2\n",
    "\n",
    "result = square_of_7()\n",
    "print(result)"
   ]
  },
  {
   "cell_type": "code",
   "execution_count": 2,
   "metadata": {},
   "outputs": [
    {
     "name": "stdout",
     "output_type": "stream",
     "text": [
      "16\n",
      "64\n"
     ]
    }
   ],
   "source": [
    "def square(num):\n",
    "    return num * num\n",
    "\n",
    "print(square(4))\n",
    "print(square(8))\n",
    "    "
   ]
  },
  {
   "cell_type": "code",
   "execution_count": 3,
   "metadata": {},
   "outputs": [
    {
     "name": "stdout",
     "output_type": "stream",
     "text": [
      "Happy Birthday to you!\n",
      "Happy Birthday to you!\n",
      "Happy Birthday dear Natalie!\n",
      "Happy Birthday to you!\n"
     ]
    }
   ],
   "source": [
    "def sing_happy_birthday(name):\n",
    "    print(\"Happy Birthday to you!\")\n",
    "    print(\"Happy Birthday to you!\")\n",
    "    print(f\"Happy Birthday dear {name}!\")\n",
    "    print(\"Happy Birthday to you!\")\n",
    "    \n",
    "sing_happy_birthday('Natalie')"
   ]
  },
  {
   "cell_type": "code",
   "execution_count": 4,
   "metadata": {},
   "outputs": [
    {
     "name": "stdout",
     "output_type": "stream",
     "text": [
      "12\n"
     ]
    }
   ],
   "source": [
    "def add(a,b):\n",
    "    return a+b\n",
    "\n",
    "print(add(8,4))"
   ]
  },
  {
   "cell_type": "code",
   "execution_count": 5,
   "metadata": {},
   "outputs": [
    {
     "data": {
      "text/plain": [
       "'ASSHOLE!'"
      ]
     },
     "execution_count": 5,
     "metadata": {},
     "output_type": "execute_result"
    }
   ],
   "source": [
    "def yell(string_lower):\n",
    "    return string_lower.upper() + \"!\"\n",
    "\n",
    "yell(\"asshole\")"
   ]
  },
  {
   "cell_type": "code",
   "execution_count": 8,
   "metadata": {},
   "outputs": [
    {
     "name": "stdout",
     "output_type": "stream",
     "text": [
      "1\n"
     ]
    }
   ],
   "source": [
    "def sum_odd_numbers(numbers):\n",
    "    total = 0\n",
    "    for num in numbers:\n",
    "        if num % 2 != 0:\n",
    "            total += num\n",
    "        return total\n",
    "    \n",
    "print(sum_odd_numbers([1,2,3,4,5,6,7]))"
   ]
  },
  {
   "cell_type": "code",
   "execution_count": 9,
   "metadata": {},
   "outputs": [
    {
     "name": "stdout",
     "output_type": "stream",
     "text": [
      "16\n"
     ]
    }
   ],
   "source": [
    "def sum_odd_numbers(numbers):\n",
    "    total = 0\n",
    "    for num in numbers:\n",
    "        if num % 2 != 0:\n",
    "            total += num\n",
    "    return total\n",
    "    \n",
    "print(sum_odd_numbers([1,2,3,4,5,6,7]))"
   ]
  },
  {
   "cell_type": "code",
   "execution_count": 10,
   "metadata": {},
   "outputs": [
    {
     "name": "stdout",
     "output_type": "stream",
     "text": [
      "8\n",
      "49\n"
     ]
    }
   ],
   "source": [
    "def exponent(num,power=2):\n",
    "    return num ** power\n",
    "\n",
    "print(exponent(2,3))\n",
    "print(exponent(7))\n"
   ]
  },
  {
   "cell_type": "code",
   "execution_count": 11,
   "metadata": {},
   "outputs": [
    {
     "name": "stdout",
     "output_type": "stream",
     "text": [
      "0\n",
      "4\n"
     ]
    }
   ],
   "source": [
    "def add(a,b):\n",
    "    return a+b\n",
    "\n",
    "def subtract(a,b):\n",
    "    return a-b\n",
    "\n",
    "def math(a,b,fn=add):\n",
    "    return fn(a,b)\n",
    "\n",
    "print(math(2,2,subtract))\n",
    "print(math(2,2))"
   ]
  },
  {
   "cell_type": "code",
   "execution_count": 12,
   "metadata": {},
   "outputs": [
    {
     "name": "stdout",
     "output_type": "stream",
     "text": [
      "quack\n"
     ]
    }
   ],
   "source": [
    "def speak(animal=\"dog\"):\n",
    "    if animal == \"pig\":\n",
    "        return \"oink\"\n",
    "    elif animal == \"duck\":\n",
    "         return \"quack\"\n",
    "    elif animal == \"cat\":\n",
    "        return \"meow\"\n",
    "    elif animal == \"dog\":\n",
    "        return \"woof\"\n",
    "    else:\n",
    "        return \"?\"\n",
    "print(speak(\"duck\"))"
   ]
  },
  {
   "cell_type": "code",
   "execution_count": 13,
   "metadata": {},
   "outputs": [
    {
     "name": "stdout",
     "output_type": "stream",
     "text": [
      "oink\n"
     ]
    }
   ],
   "source": [
    "def speak(animal=\"dog\"):\n",
    "    noises = {\"dog\": \"woof\", \"pig\": \"oink\", \"duck\": \"quack\", \"cat\": \"meow\"}\n",
    "    noise = noises.get(animal)\n",
    "    if noise:\n",
    "        return noise\n",
    "    return \"?\"\n",
    "print(speak(\"pig\"))"
   ]
  },
  {
   "cell_type": "code",
   "execution_count": 15,
   "metadata": {},
   "outputs": [
    {
     "name": "stdout",
     "output_type": "stream",
     "text": [
      "Your name is David Harcourt\n",
      "Your name is David Harcourt\n"
     ]
    }
   ],
   "source": [
    "# Keyword Arguments\n",
    "def full_name(first,last):\n",
    "    return f\"Your name is {first} {last}\"\n",
    "print(full_name(first='David', last='Harcourt'))\n",
    "print(full_name(last='Harcourt',first='David'))"
   ]
  },
  {
   "cell_type": "code",
   "execution_count": 20,
   "metadata": {},
   "outputs": [
    {
     "name": "stdout",
     "output_type": "stream",
     "text": [
      "1\n"
     ]
    }
   ],
   "source": [
    "#non-local for inbedded function\n",
    "total = 0\n",
    "\n",
    "def increment():\n",
    "    global total\n",
    "    total += 1\n",
    "    return total\n",
    "\n",
    "print(increment())"
   ]
  },
  {
   "cell_type": "code",
   "execution_count": 22,
   "metadata": {},
   "outputs": [
    {
     "data": {
      "text/plain": [
       "'A simple function that returns the string hello'"
      ]
     },
     "execution_count": 22,
     "metadata": {},
     "output_type": "execute_result"
    }
   ],
   "source": [
    "def say_hello():\n",
    "    \"\"\"A simple function that returns the string hello\"\"\"\n",
    "    return (\"Hello!\")\n",
    "say_hello.__doc__"
   ]
  },
  {
   "cell_type": "code",
   "execution_count": 24,
   "metadata": {},
   "outputs": [
    {
     "data": {
      "text/plain": [
       "\"print(value, ..., sep=' ', end='\\\\n', file=sys.stdout, flush=False)\\n\\nPrints the values to a stream, or to sys.stdout by default.\\nOptional keyword arguments:\\nfile:  a file-like object (stream); defaults to the current sys.stdout.\\nsep:   string inserted between values, default a space.\\nend:   string appended after the last value, default a newline.\\nflush: whether to forcibly flush the stream.\""
      ]
     },
     "execution_count": 24,
     "metadata": {},
     "output_type": "execute_result"
    }
   ],
   "source": [
    "print.__doc__"
   ]
  },
  {
   "cell_type": "code",
   "execution_count": 25,
   "metadata": {},
   "outputs": [
    {
     "name": "stdout",
     "output_type": "stream",
     "text": [
      "None\n"
     ]
    }
   ],
   "source": [
    "def return_day(num):\n",
    "    days = {1:\"Sunday\",2:\"Monday\",3:\"Tuesday\",4:\"Wednesday\",5:\"Thursday\",6:\"Friday\",7:\"Saturday\"}\n",
    "    day = days.get(num)\n",
    "print(return_day(8))"
   ]
  },
  {
   "cell_type": "code",
   "execution_count": 26,
   "metadata": {},
   "outputs": [],
   "source": [
    "def return_day(num):\n",
    "    days = [\"Sunday\",\"Monday\", \"Tuesday\",\"Wednesday\",\"Thursday\",\"Friday\",\"Saturday\"]\n",
    "    # Check to see if num valid\n",
    "    if num > 0 and num <= len(days):\n",
    "        # use num - 1 because lists start at 0 \n",
    "        return days[num-1]\n",
    "    return None"
   ]
  },
  {
   "cell_type": "code",
   "execution_count": 27,
   "metadata": {},
   "outputs": [],
   "source": [
    "def return_day(num):\n",
    "    try:\n",
    "        return [\"Sunday\",\"Monday\", \"Tuesday\",\"Wednesday\",\"Thursday\",\"Friday\",\"Saturday\"][num-1]\n",
    "    except IndexError as e:\n",
    "        return None"
   ]
  },
  {
   "cell_type": "code",
   "execution_count": 28,
   "metadata": {},
   "outputs": [],
   "source": [
    "def last_element(l):\n",
    "    if l:\n",
    "        return l[-1]\n",
    "    return None"
   ]
  },
  {
   "cell_type": "code",
   "execution_count": 29,
   "metadata": {},
   "outputs": [],
   "source": [
    "def last_element(list):\n",
    "    if list:\n",
    "        return list.pop()\n",
    "    else:\n",
    "        return None"
   ]
  },
  {
   "cell_type": "code",
   "execution_count": 31,
   "metadata": {},
   "outputs": [],
   "source": [
    "'''\n",
    "number_compare(1,1) # \"Numbers are equal\"\n",
    "number_compare(1,0) # \"First is greater\"\n",
    "number_compare(2,4) # \"Second is greater\"\n",
    "'''\n",
    "\n",
    "def number_compare(num1,num2):\n",
    "    if num1 > num2:\n",
    "        return \"First is greater\"\n",
    "    elif num1 < num2:\n",
    "        return \"Second is greater\"\n",
    "    return \"Numbers are equal\""
   ]
  },
  {
   "cell_type": "code",
   "execution_count": 33,
   "metadata": {},
   "outputs": [],
   "source": [
    "'''\n",
    "single_letter_count(\"Hello World\", \"h\") # 1\n",
    "single_letter_count(\"Hello World\", \"z\") # 0\n",
    "single_letter_count(\"HelLo World\", \"l\") # 3\n",
    "'''\n",
    "\n",
    "#define single_letter_count below:\n",
    "def single_letter_count(word,letter):\n",
    "    word = word.lower()\n",
    "    return word.count(letter.lower())"
   ]
  },
  {
   "cell_type": "code",
   "execution_count": 40,
   "metadata": {},
   "outputs": [
    {
     "data": {
      "text/plain": [
       "{'o': 1, 'w': 1, 's': 1, 'a': 1, 'e': 2, 'm': 1}"
      ]
     },
     "execution_count": 40,
     "metadata": {},
     "output_type": "execute_result"
    }
   ],
   "source": [
    "# flesh out multiple_letter count:\n",
    "def multiple_letter_count(string):\n",
    "    letters = list(set(string))\n",
    "    return {letters[i]:string.count(letters[i]) for i in range(0,len(letters))}\n",
    "\n",
    "multiple_letter_count(\"awesome\")\n",
    "#print(multiple_letter_count(\"awesome\")) # {'a': 1, 'e': 2, 'm': 1, 'o': 1, 's': 1, 'w': 1}\n"
   ]
  },
  {
   "cell_type": "code",
   "execution_count": 41,
   "metadata": {},
   "outputs": [],
   "source": [
    "def multiple_letter_count(string):\n",
    "    return {letter: string.count(letter) for letter in string}"
   ]
  },
  {
   "cell_type": "code",
   "execution_count": 47,
   "metadata": {},
   "outputs": [],
   "source": [
    "def list_manipulation(words,command,location,value=None):\n",
    "    if (command == 'remove' and location == 'end'):\n",
    "        return words.pop()\n",
    "    elif (command == 'remove' and location == 'beginning'):\n",
    "        return words.pop(0)\n",
    "    elif (command == 'add' and location == 'beginning'):\n",
    "        words.insert(0,value)\n",
    "        return words\n",
    "    elif (command == 'add' and location == 'end'):\n",
    "        words.append(value)\n",
    "        return words\n",
    "    \n",
    "list_manipulation([1,2,3], \"remove\", \"end\") # 3\n",
    "list_manipulation([1,2,3], \"remove\", \"beginning\") #  1\n",
    "list_manipulation([1,2,3], \"add\", \"beginning\", 20) #  [20,1,2,3]\n",
    "list_manipulation([1,2,3], \"add\", \"end\", 30) #  [1,2,3,30]\n"
   ]
  },
  {
   "cell_type": "code",
   "execution_count": 48,
   "metadata": {},
   "outputs": [],
   "source": [
    "def list_manipulation(collection, command, location, value=None):\n",
    "    if(command == \"remove\" and location == \"end\"):\n",
    "        return collection.pop()\n",
    "    elif(command == \"remove\" and location == \"beginning\"):\n",
    "        return collection.pop(0)\n",
    "    elif(command == \"add\" and location == \"beginning\"):\n",
    "        collection.insert(0,value)\n",
    "        return collection\n",
    "    elif(command == \"add\" and location == \"end\"):\n",
    "        collection.append(value)\n",
    "        return collection"
   ]
  },
  {
   "cell_type": "code",
   "execution_count": 49,
   "metadata": {},
   "outputs": [],
   "source": [
    "'''\n",
    "is_palindrome('testing') # False\n",
    "is_palindrome('tacocat') # True\n",
    "is_palindrome('hannah') # True\n",
    "is_palindrome('robert') # False\n",
    "is_palindrome('amanaplanacanalpanama') # True\n",
    "'''\n",
    "\n",
    "def is_palindrome(collection):\n",
    "    reverse = collection[::-1]\n",
    "    if collection == reverse:\n",
    "        return True\n",
    "    return False"
   ]
  },
  {
   "cell_type": "code",
   "execution_count": 50,
   "metadata": {},
   "outputs": [],
   "source": [
    "def is_palindrome(string):\n",
    "    return string == string[::-1]"
   ]
  },
  {
   "cell_type": "code",
   "execution_count": 51,
   "metadata": {},
   "outputs": [],
   "source": [
    "def is_palindrome(string):\n",
    "    stripped = string.replace(\" \", \"\")\n",
    "    return stripped == stripped[::-1]"
   ]
  },
  {
   "cell_type": "code",
   "execution_count": 52,
   "metadata": {},
   "outputs": [],
   "source": [
    "'''\n",
    "frequency([1,2,3,4,4,4], 4) # 3\n",
    "frequency([True, False, True, True], False) # 1\n",
    "'''\n",
    "\n",
    "def frequency(collection,term):\n",
    "    return collection.count(term)"
   ]
  },
  {
   "cell_type": "code",
   "execution_count": 65,
   "metadata": {},
   "outputs": [
    {
     "name": "stdout",
     "output_type": "stream",
     "text": [
      "48\n"
     ]
    }
   ],
   "source": [
    "def multiply_even_numbers(nums):\n",
    "    total = 1\n",
    "    for i in nums:\n",
    "        if i % 2 == 0:\n",
    "            total = total*i\n",
    "    return total\n",
    "\n",
    "print(multiply_even_numbers([2,3,4,5,6])) # 48\n"
   ]
  },
  {
   "cell_type": "code",
   "execution_count": 66,
   "metadata": {},
   "outputs": [],
   "source": [
    "def capitalize(string):\n",
    "    return string[:1].upper() + string[1:]"
   ]
  },
  {
   "cell_type": "code",
   "execution_count": 67,
   "metadata": {},
   "outputs": [],
   "source": [
    "'''\n",
    "capitalize(\"tim\") # \"Tim\"\n",
    "capitalize(\"matt\") # \"Matt\"\n",
    "'''\n",
    "\n",
    "def capitalize(word):\n",
    "    return word.capitalize()"
   ]
  },
  {
   "cell_type": "code",
   "execution_count": 68,
   "metadata": {},
   "outputs": [],
   "source": [
    "'''\n",
    "compact([0,1,2,\"\",[], False, {}, None, \"All done\"]) # [1,2, \"All done\"]\n",
    "'''\n",
    "\n",
    "def compact(collection):\n",
    "    truthy = []\n",
    "    for i in collection:\n",
    "        if i:\n",
    "            truthy.append(i)\n",
    "    return truthy"
   ]
  },
  {
   "cell_type": "code",
   "execution_count": 69,
   "metadata": {},
   "outputs": [],
   "source": [
    "def compact(l):\n",
    "    return [val for val in l if val]"
   ]
  },
  {
   "cell_type": "code",
   "execution_count": 70,
   "metadata": {},
   "outputs": [],
   "source": [
    "def compact(l):\n",
    "    truthy_vals = []\n",
    "    for val in l:\n",
    "        if val: truthy_vals.append(val)\n",
    "    return truthy_vals\n"
   ]
  },
  {
   "cell_type": "code",
   "execution_count": 71,
   "metadata": {},
   "outputs": [],
   "source": [
    "def intersection(list1,list2):\n",
    "    list1=set(list1)\n",
    "    list2=set(list2)\n",
    "    return list(list1 & list2)"
   ]
  },
  {
   "cell_type": "code",
   "execution_count": 72,
   "metadata": {},
   "outputs": [],
   "source": [
    "def intersection(l1, l2):\n",
    "    in_common = []\n",
    "    for val in l1:\n",
    "        if val in l2:\n",
    "            in_common.append(val)\n",
    "    return in_common"
   ]
  },
  {
   "cell_type": "code",
   "execution_count": 73,
   "metadata": {},
   "outputs": [],
   "source": [
    "def intersection(l1, l2):\n",
    "    return [val for val in l1 if val in l2]"
   ]
  },
  {
   "cell_type": "code",
   "execution_count": 74,
   "metadata": {},
   "outputs": [],
   "source": [
    "def intersection(list1, list2):\n",
    "    return [val for val in set(list1) & set(list2)]"
   ]
  },
  {
   "cell_type": "code",
   "execution_count": 76,
   "metadata": {},
   "outputs": [],
   "source": [
    "'''\n",
    "def isEven(num):\n",
    "    return num % 2 == 0\n",
    "\n",
    "partition([1,2,3,4], isEven) # [[2,4],[1,3]]\n",
    "'''\n",
    "\n",
    "def partition(data,callback):\n",
    "    truthy = []\n",
    "    falsy = []\n",
    "    for i in data:\n",
    "        if callback(i) == True:\n",
    "            truthy.append(i)\n",
    "        else:\n",
    "            falsy.append(i)\n",
    "    return [truthy,falsy]\n",
    "       \n"
   ]
  },
  {
   "cell_type": "code",
   "execution_count": 77,
   "metadata": {},
   "outputs": [],
   "source": [
    "def partition(lst, fn):\n",
    "    return [[val for val in lst if fn(val)], [val for val in lst if not fn(val)]]"
   ]
  },
  {
   "cell_type": "code",
   "execution_count": null,
   "metadata": {},
   "outputs": [],
   "source": []
  }
 ],
 "metadata": {
  "kernelspec": {
   "display_name": "Python 3",
   "language": "python",
   "name": "python3"
  },
  "language_info": {
   "codemirror_mode": {
    "name": "ipython",
    "version": 3
   },
   "file_extension": ".py",
   "mimetype": "text/x-python",
   "name": "python",
   "nbconvert_exporter": "python",
   "pygments_lexer": "ipython3",
   "version": "3.7.1"
  }
 },
 "nbformat": 4,
 "nbformat_minor": 2
}
